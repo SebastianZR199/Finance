{
  "nbformat": 4,
  "nbformat_minor": 0,
  "metadata": {
    "colab": {
      "name": "Amortizacion.ipynb",
      "provenance": []
    },
    "kernelspec": {
      "name": "python3",
      "display_name": "Python 3"
    },
    "language_info": {
      "name": "python"
    }
  },
  "cells": [
    {
      "cell_type": "code",
      "metadata": {
        "id": "Hb_Z2554yAUX"
      },
      "source": [
        "import pandas as pd\n",
        "import numpy as np\n",
        "import matplotlib.pyplot as plt\n"
      ],
      "execution_count": 77,
      "outputs": []
    },
    {
      "cell_type": "code",
      "metadata": {
        "id": "6YDlxsj-uM57"
      },
      "source": [
        "def amortiza():\n",
        "\n",
        "\n",
        "  vp = float(input(\"¿cual es el valor del prestamo inicial?  \"))\n",
        "  i = float(input(\"¿cual es la tasa de interes EA?, incluir la tasa en decimales. \"))\n",
        "  nper = int(input(\"¿por cuantos meses es su prestamo?  \"))\n",
        "\n",
        "  def imv(i):\n",
        "    iMV = ((1+i)**(1/12))-1\n",
        "    return iMV\n",
        "  def anualidad(vp, nper, i):\n",
        "    anualidad = (vp*imv(i))/(1-((1+imv(i))**(-nper)))\n",
        "    return anualidad\n",
        "\n",
        "  month = []\n",
        "  valor_inicial = []\n",
        "  interes = []\n",
        "  pago = []\n",
        "  abono_capital = []\n",
        "  valor_final = []\n",
        "\n",
        "\n",
        "  for n in range(0, nper+1):\n",
        "    month.append(n)\n",
        "    if n == 0:\n",
        "      pagoa = 0\n",
        "      valorinicial = vp\n",
        "      valorfinal = valorinicial\n",
        "      intereses = 0\n",
        "      abonocapital = 0\n",
        "    else:\n",
        "      pagoa = anualidad(vp, nper, i)\n",
        "      valorinicial = pagoa * ((1-((1+imv(i))**(-(nper-(n-1)))))/imv(i))\n",
        "      intereses = valorinicial * imv(i)\n",
        "      abonocapital = pagoa - intereses\n",
        "      valorfinal = valorinicial - abonocapital\n",
        "    \n",
        "    \n",
        "\n",
        "    pago.append(pagoa)\n",
        "    valor_inicial.append(valorinicial)\n",
        "    interes.append(intereses)\n",
        "    abono_capital.append(abonocapital)\n",
        "    valor_final.append(valorfinal)\n",
        "\n",
        "  \n",
        "  amortizacion = pd.DataFrame(month, columns= [\"month\"])\n",
        "  amortizacion[\"valor_inicial\"] = valor_inicial\n",
        "  amortizacion[\"pago\"] = pago\n",
        "  amortizacion[\"interes\"] = interes\n",
        "  amortizacion[\"capital\"] = abono_capital\n",
        "  amortizacion[\"valor_final\"] = valor_final\n",
        "\n",
        "  final = print(amortizacion, \"\\n\", \"\\n\",  \"intereses pagados: \", \"$\" + str(int(amortizacion[\"interes\"].sum())), \n",
        "                \"\\n\", \"\\n\", \"Total monto pagado: \",\"$\" + str(int(amortizacion[\"pago\"].sum())))\n",
        "\n",
        "\n",
        "  return final\n",
        "\n",
        "\n",
        "\n",
        "\n",
        " \n",
        " \n",
        "\n",
        "\n",
        "\n",
        "\n"
      ],
      "execution_count": 96,
      "outputs": []
    },
    {
      "cell_type": "code",
      "metadata": {
        "colab": {
          "base_uri": "https://localhost:8080/"
        },
        "id": "RZkYwm9KBN_3",
        "outputId": "47d9fed3-39c9-4eea-a25c-e6cd7285a3a5"
      },
      "source": [
        "amortiza()"
      ],
      "execution_count": 84,
      "outputs": [
        {
          "output_type": "stream",
          "text": [
            "¿cual es el valor del prestamo inicial?  10000\n",
            "¿cual es la tasa de interes EA?, incluir la tasa en decimales. 0.28\n",
            "¿por cuantos meses es su prestamo?  60\n",
            "    month  valor_inicial        pago     interes     capital   valor_final\n",
            "0       0   10000.000000    0.000000    0.000000    0.000000  1.000000e+04\n",
            "1       1   10000.000000  293.171389  207.847285   85.324104  9.914676e+03\n",
            "2       2    9914.675896  293.171389  206.073847   87.097542  9.827578e+03\n",
            "3       3    9827.578354  293.171389  204.263548   88.907841  9.738671e+03\n",
            "4       4    9738.670513  293.171389  202.415622   90.755766  9.647915e+03\n",
            "..    ...            ...         ...         ...         ...           ...\n",
            "56     56    1378.709824  293.171389   28.656109  264.515279  1.114195e+03\n",
            "57     57    1114.194545  293.171389   23.158231  270.013158  8.441814e+02\n",
            "58     58     844.181387  293.171389   17.546081  275.625308  5.685561e+02\n",
            "59     59     568.556079  293.171389   11.817284  281.354105  2.872020e+02\n",
            "60     60     287.201974  293.171389    5.969415  287.201974  5.115908e-13\n",
            "\n",
            "[61 rows x 6 columns] \n",
            " \n",
            " intereses pagados:  $7590 \n",
            " \n",
            " Total monto pagado:  $17590\n"
          ],
          "name": "stdout"
        }
      ]
    }
  ]
}